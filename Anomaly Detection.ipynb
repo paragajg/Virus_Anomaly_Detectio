{
 "cells": [
  {
   "cell_type": "markdown",
   "metadata": {},
   "source": [
    "## Anomaly Detection in the Data"
   ]
  },
  {
   "cell_type": "markdown",
   "metadata": {},
   "source": [
    "### Unsupervised Learning Approach for Outlier or Anomaly detection\n",
    "\n",
    "- **Assumption**: Training data (unlabelled) contains both normal and anomalous observations.\n",
    "- The model identifies outliers during the fitting process.\n",
    "- This approach is taken when outliers are defined as points that exist in low-density regions in the data.\n",
    "- Any new observations that do not belong to high-density regions are considered outliers.\n",
    "\n",
    "Below are some of the algorithms used to build, evaluate and predict likely outliers.\n",
    "\n",
    "  1. Proximity-Based Outlier Detection Models:\n",
    "     1. **LOF: Local Outlier Factor**\n",
    "     2. **CBLOF: Clustering-Based Local Outlier Factor**\n",
    "     3. **kNN: k Nearest Neighbors** (use the distance to the kth nearest \n",
    "     neighbor as the outlier score)\n",
    "     4. **Median kNN** Outlier Detection (use the median distance to k nearest \n",
    "     neighbors as the outlier score)\n",
    "     \n",
    "     \n",
    "  2. Outlier Ensembles and Combination Frameworks\n",
    "     1. **Isolation Forest** - \n",
    "         - The IsolationForest ‘isolates’ observations by randomly selecting a feature and then randomly selecting a split value between the maximum and minimum values of the selected feature.\n",
    "\n",
    "         - Since recursive partitioning can be represented by a tree structure, the number of splittings required to isolate a sample is equivalent to the path length from the root node to the terminating node.\n",
    "\n",
    "         - This path length, averaged over a forest of such random trees, is a measure of normality and our decision function.\n",
    "\n",
    "         - Random partitioning produces noticeable shorter paths for anomalies. Hence, when a forest of random trees collectively produce shorter path lengths for particular samples, they are highly likely to be anomalies."
   ]
  },
  {
   "cell_type": "markdown",
   "metadata": {},
   "source": [
    "### Load Packages"
   ]
  },
  {
   "cell_type": "code",
   "execution_count": 37,
   "metadata": {},
   "outputs": [],
   "source": [
    "import pandas as pd\n",
    "import numpy as np\n",
    "\n",
    "# Import models\n",
    "from pyod.models.abod import ABOD\n",
    "from pyod.models.cblof import CBLOF\n",
    "from pyod.models.hbos import HBOS\n",
    "from pyod.models.iforest import IForest\n",
    "from pyod.models.knn import KNN\n",
    "from pyod.models.lof import LOF\n",
    "\n",
    "# To build Machine Learing pipeline\n",
    "from sklearn.model_selection import train_test_split\n",
    "from sklearn.preprocessing import StandardScaler, OneHotEncoder\n",
    "from sklearn.impute import SimpleImputer\n",
    "from sklearn.pipeline import Pipeline\n",
    "from sklearn.compose import ColumnTransformer"
   ]
  },
  {
   "cell_type": "markdown",
   "metadata": {},
   "source": [
    "### Import Data"
   ]
  },
  {
   "cell_type": "code",
   "execution_count": 4,
   "metadata": {},
   "outputs": [],
   "source": [
    "df = pd.read_excel(\"Data_Science_Problem-external.xlsx\",sheet_name=\"Data\")"
   ]
  },
  {
   "cell_type": "markdown",
   "metadata": {},
   "source": [
    "### Exclude Rows with Issues in data\n",
    "- Imported json file created in data issues identification process for excluding affected indices from training ML model"
   ]
  },
  {
   "cell_type": "code",
   "execution_count": 40,
   "metadata": {},
   "outputs": [
    {
     "name": "stdout",
     "output_type": "stream",
     "text": [
      "Total likely affected rows removed prior to building ML model: 1657\n"
     ]
    }
   ],
   "source": [
    "temp = []\n",
    "with open('data_issues.json', 'r') as json_file:\n",
    "        data = json.load(json_file)\n",
    "        for element, colname in zip(data,df.columns) :\n",
    "            temp.extend(element[colname][\"Anomalous_Value_Index\"])\n",
    "#print(len(temp))\n",
    "#print(temp)\n",
    "print(\"Total likely affected rows removed prior to building ML model: %s\"%len(set(temp)))\n",
    "exclusion_index = set(temp)"
   ]
  },
  {
   "cell_type": "markdown",
   "metadata": {},
   "source": [
    "### Cleaning of data\n",
    "- Excluded rows having data specific issues\n",
    "- Segregate numerica columns"
   ]
  },
  {
   "cell_type": "code",
   "execution_count": 44,
   "metadata": {},
   "outputs": [],
   "source": [
    "def data_cleaning(dataframe, data_issue_index):\n",
    "    df_new = df.dropna(how = \"all\")\n",
    "    df_new = df_new[['dir', 'mod', 'nm', 'prod', 'productId', 'protocol',\n",
    "           'sigid', 'sigwid', 'machine_type','os_arch', 'os_name', \n",
    "            'product_name','product_version', 'sp_major_version', \n",
    "            'trial_copy', 'country_name','real_region_name']]\n",
    "    \n",
    "    df_final = df_new.loc[[x for x in df_new.index if x not in data_issue_index]]\n",
    "    df_final[[\"sigid\",\"sp_major_version\",\"trial_copy\"]] = df_final[[\"sigid\",\"sp_major_version\",\"trial_copy\"]].apply(\n",
    "        pd.to_numeric)\n",
    "    \n",
    "    print(\"Size of data after cleaning: {}\".format(df_final.shape))\n",
    "    return df_final"
   ]
  },
  {
   "cell_type": "code",
   "execution_count": 45,
   "metadata": {},
   "outputs": [
    {
     "name": "stdout",
     "output_type": "stream",
     "text": [
      "Size of data after cleaning: (6342, 17)\n"
     ]
    }
   ],
   "source": [
    "df_final = data_cleaning(df,exclusion_index)"
   ]
  },
  {
   "cell_type": "markdown",
   "metadata": {},
   "source": [
    "### Feature Engineering Pipeline\n",
    "- One hot encoding of categorical features\n",
    "- Missing values in categorical features updated as \"missing\"\n",
    "- Scaling of numerical features by scaling values to unit variance"
   ]
  },
  {
   "cell_type": "code",
   "execution_count": 8,
   "metadata": {},
   "outputs": [],
   "source": [
    "def data_featureEngineering(df_final):\n",
    "    \n",
    "    #We create the preprocessing pipelines for both numeric and categorical data.\n",
    "    numeric_features = [\"sigid\",\"sp_major_version\",\"trial_copy\"]\n",
    "    numeric_transformer = Pipeline(steps=[\n",
    "        ('imputer', SimpleImputer(strategy='mean')),\n",
    "        ('scaler', StandardScaler())])\n",
    "\n",
    "    categorical_features = ['dir', 'mod', 'nm', 'prod', 'productId', 'protocol',\n",
    "               'sigwid', 'machine_type','os_arch', 'os_name', \n",
    "                'product_name','product_version', 'country_name','real_region_name']\n",
    "    categorical_transformer = Pipeline(steps=[\n",
    "        ('imputer', SimpleImputer(strategy='constant', fill_value='missing')),\n",
    "        ('onehot', OneHotEncoder(handle_unknown='ignore'))])\n",
    "\n",
    "    preprocessor = ColumnTransformer(\n",
    "        transformers=[\n",
    "            ('num', numeric_transformer, numeric_features),\n",
    "            ('cat', categorical_transformer, categorical_features)])\n",
    "    \n",
    "    X = preprocessor.fit_transform(df_final)\n",
    "    X = X.toarray()\n",
    "    print(\"Shape of Training data {}\".format(X.shape))\n",
    "    \n",
    "    return X"
   ]
  },
  {
   "cell_type": "code",
   "execution_count": 9,
   "metadata": {},
   "outputs": [
    {
     "name": "stdout",
     "output_type": "stream",
     "text": [
      "Shape of Training data (6342, 136)\n"
     ]
    }
   ],
   "source": [
    "X = data_featureEngineering(df_final)"
   ]
  },
  {
   "cell_type": "markdown",
   "metadata": {},
   "source": [
    "### Explore multiple alogrithms to identify probable anomalous records\n",
    "\n",
    "- __Key Assumption__: Assuming that the data consistis of 10% of outliers in the sample. The outlier fraction can be a hyperparameter for future fine tuning of model"
   ]
  },
  {
   "cell_type": "code",
   "execution_count": 81,
   "metadata": {},
   "outputs": [],
   "source": [
    "def build_classfier(X,df_final,export = True):\n",
    "    \n",
    "    random_state = np.random.RandomState(42)\n",
    "    outliers_fraction = 0.05\n",
    "    \n",
    "    # Iterate over multiple classfiers prior to selection\n",
    "    classifiers = {\n",
    "            'Cluster-based Local Outlier Factor (CBLOF)':\n",
    "            CBLOF(contamination=outliers_fraction,\n",
    "                  check_estimator=False, random_state=random_state),\n",
    "            'K Nearest Neighbors (KNN)': KNN(\n",
    "            contamination=outliers_fraction),\n",
    "        'Average KNN': KNN(method='mean',\n",
    "                           contamination=outliers_fraction),\n",
    "            'Isolation Forest': IForest(contamination=outliers_fraction,\n",
    "                                    random_state=random_state)\n",
    "\n",
    "    }\n",
    "    outlier_selection_list = [] # To store results of each fitted classfier\n",
    "\n",
    "    for i, (clf_name, clf) in enumerate(classifiers.items()):\n",
    "        print(\"Building %s model\"%clf_name)\n",
    "        clf.fit(X)\n",
    "        # predict raw anomaly score\n",
    "        scores_pred = clf.decision_function(X) * -1\n",
    "        #print(scores_pred)\n",
    "        # prediction of a datapoint category outlier or inlier\n",
    "        y_pred = clf.predict(X)\n",
    "        n_inliers = len(y_pred) - np.count_nonzero(y_pred)\n",
    "        n_outliers = np.count_nonzero(y_pred == 1)\n",
    "        outlier_selection_list.append({\"Algorithm\":clf_name,\"Oultiers Predicted\":n_outliers})\n",
    "        print('OUTLIERS : ',n_outliers,'INLIERS : ',n_inliers, clf_name)\n",
    "    \n",
    "    # select classfier predecting maximum Outliers\n",
    "    outlier_selection_list = pd.DataFrame(outlier_selection_list)\n",
    "    selection = outlier_selection_list[\"Oultiers Predicted\"].idxmax(axis = 0)\n",
    "    classifier_name = outlier_selection_list.loc[selection,\"Algorithm\"]\n",
    "    \n",
    "    print(\"\\n...................................................\")\n",
    "    print(\"Final Model Chosen to fit data: %s\"%classifier_name)\n",
    "    print(\"...................................................\\n\")\n",
    "    \n",
    "    # Finally fit with the selected classfier and store result to disk\n",
    "    clf = classifiers[classifier_name]\n",
    "    clf.fit(X)\n",
    "    \n",
    "    # prediction of a datapoint category outlier or inlier\n",
    "    y_pred = clf.predict(X)\n",
    "    np.count_nonzero(y_pred == 1)\n",
    "    y_pred_label = [\"Inlier\" if x == 0 else \"Outlier\" for x in y_pred]\n",
    "    y_predicted = pd.DataFrame({\"Predicted_Label\":y_pred_label,\"Binary_Label\": y_pred})\n",
    "    y_predicted.index = df_final.index\n",
    "    df_export = df_final.merge(y_predicted,left_index=True,right_index=True)\n",
    "    print(df_export.head())\n",
    "    print(df_export.tail())\n",
    "    \n",
    "    if export:\n",
    "        df_export.to_csv(\"Outputdata_Likely_Outliers.csv\",index= False)\n",
    "\n",
    "    return df_export, clf,outlier_selection_list"
   ]
  },
  {
   "cell_type": "code",
   "execution_count": 82,
   "metadata": {},
   "outputs": [
    {
     "name": "stdout",
     "output_type": "stream",
     "text": [
      "Building Cluster-based Local Outlier Factor (CBLOF) model\n",
      "OUTLIERS :  312 INLIERS :  6030 Cluster-based Local Outlier Factor (CBLOF)\n",
      "Building K Nearest Neighbors (KNN) model\n",
      "OUTLIERS :  203 INLIERS :  6139 K Nearest Neighbors (KNN)\n",
      "Building Average KNN model\n",
      "OUTLIERS :  140 INLIERS :  6202 Average KNN\n",
      "Building Isolation Forest model\n"
     ]
    },
    {
     "name": "stderr",
     "output_type": "stream",
     "text": [
      "/Users/paragpradhan/anaconda3/lib/python3.6/site-packages/sklearn/ensemble/iforest.py:223: FutureWarning: behaviour=\"old\" is deprecated and will be removed in version 0.22. Please use behaviour=\"new\", which makes the decision_function change to match other anomaly detection algorithm API.\n",
      "  FutureWarning)\n"
     ]
    },
    {
     "name": "stdout",
     "output_type": "stream",
     "text": [
      "OUTLIERS :  313 INLIERS :  6029 Isolation Forest\n",
      "\n",
      "...................................................\n",
      "Final Model Chosen to fit data: Isolation Forest\n",
      "...................................................\n",
      "\n"
     ]
    },
    {
     "name": "stderr",
     "output_type": "stream",
     "text": [
      "/Users/paragpradhan/anaconda3/lib/python3.6/site-packages/sklearn/ensemble/iforest.py:223: FutureWarning: behaviour=\"old\" is deprecated and will be removed in version 0.22. Please use behaviour=\"new\", which makes the decision_function change to match other anomaly detection algorithm API.\n",
      "  FutureWarning)\n"
     ]
    },
    {
     "name": "stdout",
     "output_type": "stream",
     "text": [
      "   dir  mod                           nm prod productId protocol  sigid  \\\n",
      "8   in  blk     SMB/Autoblue.UN!SP.30735   UN    qhpdt9      SMB  30735   \n",
      "10  in  blk     SMB/Autoblue.UN!SP.30735   UN    qhpdt4      SMB  30735   \n",
      "11  in  blk  SMB/EternalBlue.UN!SP.31780   UN    qhpdt9      SMB  31780   \n",
      "12  in  blk  SMB/EternalBlue.UN!SP.31780   UN    qhpdt9      SMB  31780   \n",
      "13  in  blk  SMB/EternalBlue.UN!SP.31780   UN    qhpdt9      SMB  31780   \n",
      "\n",
      "     sigwid machine_type os_arch                     os_name product_name  \\\n",
      "8   qhcltr4      DESKTOP   64Bit            Windows 7 64 bit     qhpname7   \n",
      "10  qhcltr4      DESKTOP   64Bit  Windows Server 2012 64 bit     qhpname3   \n",
      "11  qhcltr4      DESKTOP   64Bit            Windows 7 64 bit     qhpname7   \n",
      "12  qhcltr4      DESKTOP   64Bit            Windows 7 64 bit     qhpname7   \n",
      "13  qhcltr4      DESKTOP   64Bit            Windows 7 64 bit     qhpname7   \n",
      "\n",
      "   product_version  sp_major_version  trial_copy country_name  \\\n",
      "8          qhpver0               0.0         0.0     country4   \n",
      "10         qhpver0               0.0         0.0     country4   \n",
      "11         qhpver0               1.0         0.0     country4   \n",
      "12         qhpver0               1.0         0.0     country4   \n",
      "13         qhpver0               0.0         0.0     country4   \n",
      "\n",
      "   real_region_name Predicted_Label  Binary_Label  \n",
      "8          region-1          Inlier             0  \n",
      "10         region-1          Inlier             0  \n",
      "11         region-1          Inlier             0  \n",
      "12         region-1          Inlier             0  \n",
      "13         region-1          Inlier             0  \n",
      "      dir  mod                          nm prod productId protocol  sigid  \\\n",
      "7996  out  blk  HTTP/Coinminer.CNC!SP.4843  CNC   qhpdt10     HTTP   4843   \n",
      "7997  out  blk  HTTP/Coinminer.CNC!SP.4843  CNC   qhpdt10     HTTP   4843   \n",
      "7998  out  blk  HTTP/Coinminer.CNC!SP.4843  CNC   qhpdt10     HTTP   4843   \n",
      "7999  out  blk  HTTP/Coinminer.CNC!SP.4843  CNC   qhpdt10     HTTP   4843   \n",
      "8000  out  blk  HTTP/Coinminer.CNC!SP.4843  CNC   qhpdt10     HTTP   4843   \n",
      "\n",
      "       sigwid machine_type os_arch os_name product_name product_version  \\\n",
      "7996  qhcltr4          NaN     NaN     NaN    qhpname-1        qhpver-1   \n",
      "7997  qhcltr4          NaN     NaN     NaN    qhpname-1        qhpver-1   \n",
      "7998  qhcltr4          NaN     NaN     NaN    qhpname-1        qhpver-1   \n",
      "7999  qhcltr4          NaN     NaN     NaN    qhpname-1        qhpver-1   \n",
      "8000  qhcltr4          NaN     NaN     NaN    qhpname-1        qhpver-1   \n",
      "\n",
      "      sp_major_version  trial_copy country_name real_region_name  \\\n",
      "7996               NaN         NaN     country4         region15   \n",
      "7997               NaN         NaN     country4         region15   \n",
      "7998               NaN         NaN     country4         region15   \n",
      "7999               NaN         NaN     country4         region15   \n",
      "8000               NaN         NaN     country4         region15   \n",
      "\n",
      "     Predicted_Label  Binary_Label  \n",
      "7996         Outlier             1  \n",
      "7997         Outlier             1  \n",
      "7998         Outlier             1  \n",
      "7999         Outlier             1  \n",
      "8000         Outlier             1  \n"
     ]
    }
   ],
   "source": [
    "df_export, clf,outlier_selection_list = build_classfier(X,df_final)"
   ]
  },
  {
   "cell_type": "code",
   "execution_count": null,
   "metadata": {},
   "outputs": [],
   "source": []
  }
 ],
 "metadata": {
  "kernelspec": {
   "display_name": "Python 3",
   "language": "python",
   "name": "python3"
  },
  "language_info": {
   "codemirror_mode": {
    "name": "ipython",
    "version": 3
   },
   "file_extension": ".py",
   "mimetype": "text/x-python",
   "name": "python",
   "nbconvert_exporter": "python",
   "pygments_lexer": "ipython3",
   "version": "3.6.6"
  }
 },
 "nbformat": 4,
 "nbformat_minor": 2
}
